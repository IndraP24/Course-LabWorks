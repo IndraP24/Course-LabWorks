{
  "nbformat": 4,
  "nbformat_minor": 0,
  "metadata": {
    "colab": {
      "provenance": [],
      "collapsed_sections": [],
      "authorship_tag": "ABX9TyNyedTEPVvS5fnT14g7RCak",
      "include_colab_link": true
    },
    "kernelspec": {
      "name": "python3",
      "display_name": "Python 3"
    },
    "language_info": {
      "name": "python"
    }
  },
  "cells": [
    {
      "cell_type": "markdown",
      "metadata": {
        "id": "view-in-github",
        "colab_type": "text"
      },
      "source": [
        "<a href=\"https://colab.research.google.com/github/IndraP24/Course-LabWorks/blob/main/ANN/Lab%20Activity%20-%207%20-%20ANN_Class_Activity.ipynb\" target=\"_parent\"><img src=\"https://colab.research.google.com/assets/colab-badge.svg\" alt=\"Open In Colab\"/></a>"
      ]
    },
    {
      "cell_type": "markdown",
      "metadata": {
        "id": "0XMqVVeoIE54"
      },
      "source": [
        "# Import libraries"
      ]
    },
    {
      "cell_type": "code",
      "metadata": {
        "id": "1tMZe3xgGSE5"
      },
      "source": [
        "import pandas as pd\n",
        "import numpy as np"
      ],
      "execution_count": null,
      "outputs": []
    },
    {
      "cell_type": "markdown",
      "metadata": {
        "id": "PDK7ALyxIJwC"
      },
      "source": [
        "# Read data"
      ]
    },
    {
      "cell_type": "code",
      "metadata": {
        "colab": {
          "base_uri": "https://localhost:8080/"
        },
        "id": "Z8X6o9XuHsEu",
        "outputId": "0b1e3c87-eb4f-42ef-c5a1-73057b89263b"
      },
      "source": [
        "df1 = pd.read_csv('myFile0.csv')\n",
        "df2 = pd.read_csv('myFile1.csv')\n",
        "print(df1.shape, df2.shape)"
      ],
      "execution_count": null,
      "outputs": [
        {
          "output_type": "stream",
          "name": "stdout",
          "text": [
            "(1000, 4) (1000, 4)\n"
          ]
        }
      ]
    },
    {
      "cell_type": "code",
      "metadata": {
        "colab": {
          "base_uri": "https://localhost:8080/",
          "height": 206
        },
        "id": "FiL5fQtmIcie",
        "outputId": "1de197ec-1f0d-4f45-85b3-5d3bfc85d39c"
      },
      "source": [
        "df1.head()"
      ],
      "execution_count": null,
      "outputs": [
        {
          "output_type": "execute_result",
          "data": {
            "text/html": [
              "<div>\n",
              "<style scoped>\n",
              "    .dataframe tbody tr th:only-of-type {\n",
              "        vertical-align: middle;\n",
              "    }\n",
              "\n",
              "    .dataframe tbody tr th {\n",
              "        vertical-align: top;\n",
              "    }\n",
              "\n",
              "    .dataframe thead th {\n",
              "        text-align: right;\n",
              "    }\n",
              "</style>\n",
              "<table border=\"1\" class=\"dataframe\">\n",
              "  <thead>\n",
              "    <tr style=\"text-align: right;\">\n",
              "      <th></th>\n",
              "      <th>id</th>\n",
              "      <th>1</th>\n",
              "      <th>2</th>\n",
              "      <th>3</th>\n",
              "    </tr>\n",
              "  </thead>\n",
              "  <tbody>\n",
              "    <tr>\n",
              "      <th>0</th>\n",
              "      <td>100</td>\n",
              "      <td>876</td>\n",
              "      <td>372</td>\n",
              "      <td>47</td>\n",
              "    </tr>\n",
              "    <tr>\n",
              "      <th>1</th>\n",
              "      <td>101</td>\n",
              "      <td>500</td>\n",
              "      <td>230</td>\n",
              "      <td>841</td>\n",
              "    </tr>\n",
              "    <tr>\n",
              "      <th>2</th>\n",
              "      <td>102</td>\n",
              "      <td>526</td>\n",
              "      <td>563</td>\n",
              "      <td>797</td>\n",
              "    </tr>\n",
              "    <tr>\n",
              "      <th>3</th>\n",
              "      <td>103</td>\n",
              "      <td>489</td>\n",
              "      <td>378</td>\n",
              "      <td>75</td>\n",
              "    </tr>\n",
              "    <tr>\n",
              "      <th>4</th>\n",
              "      <td>104</td>\n",
              "      <td>488</td>\n",
              "      <td>669</td>\n",
              "      <td>933</td>\n",
              "    </tr>\n",
              "  </tbody>\n",
              "</table>\n",
              "</div>"
            ],
            "text/plain": [
              "    id    1    2    3\n",
              "0  100  876  372   47\n",
              "1  101  500  230  841\n",
              "2  102  526  563  797\n",
              "3  103  489  378   75\n",
              "4  104  488  669  933"
            ]
          },
          "metadata": {},
          "execution_count": 5
        }
      ]
    },
    {
      "cell_type": "code",
      "metadata": {
        "colab": {
          "base_uri": "https://localhost:8080/",
          "height": 206
        },
        "id": "_bCzJwQ_IevR",
        "outputId": "dd7baf76-262f-4f80-d5ef-5123de38d5ef"
      },
      "source": [
        "df2.head()"
      ],
      "execution_count": null,
      "outputs": [
        {
          "output_type": "execute_result",
          "data": {
            "text/html": [
              "<div>\n",
              "<style scoped>\n",
              "    .dataframe tbody tr th:only-of-type {\n",
              "        vertical-align: middle;\n",
              "    }\n",
              "\n",
              "    .dataframe tbody tr th {\n",
              "        vertical-align: top;\n",
              "    }\n",
              "\n",
              "    .dataframe thead th {\n",
              "        text-align: right;\n",
              "    }\n",
              "</style>\n",
              "<table border=\"1\" class=\"dataframe\">\n",
              "  <thead>\n",
              "    <tr style=\"text-align: right;\">\n",
              "      <th></th>\n",
              "      <th>id</th>\n",
              "      <th>1</th>\n",
              "      <th>2</th>\n",
              "      <th>3</th>\n",
              "    </tr>\n",
              "  </thead>\n",
              "  <tbody>\n",
              "    <tr>\n",
              "      <th>0</th>\n",
              "      <td>100</td>\n",
              "      <td>318</td>\n",
              "      <td>240</td>\n",
              "      <td>732</td>\n",
              "    </tr>\n",
              "    <tr>\n",
              "      <th>1</th>\n",
              "      <td>101</td>\n",
              "      <td>314</td>\n",
              "      <td>288</td>\n",
              "      <td>75</td>\n",
              "    </tr>\n",
              "    <tr>\n",
              "      <th>2</th>\n",
              "      <td>102</td>\n",
              "      <td>778</td>\n",
              "      <td>981</td>\n",
              "      <td>215</td>\n",
              "    </tr>\n",
              "    <tr>\n",
              "      <th>3</th>\n",
              "      <td>103</td>\n",
              "      <td>353</td>\n",
              "      <td>231</td>\n",
              "      <td>177</td>\n",
              "    </tr>\n",
              "    <tr>\n",
              "      <th>4</th>\n",
              "      <td>104</td>\n",
              "      <td>712</td>\n",
              "      <td>472</td>\n",
              "      <td>636</td>\n",
              "    </tr>\n",
              "  </tbody>\n",
              "</table>\n",
              "</div>"
            ],
            "text/plain": [
              "    id    1    2    3\n",
              "0  100  318  240  732\n",
              "1  101  314  288   75\n",
              "2  102  778  981  215\n",
              "3  103  353  231  177\n",
              "4  104  712  472  636"
            ]
          },
          "metadata": {},
          "execution_count": 6
        }
      ]
    },
    {
      "cell_type": "markdown",
      "metadata": {
        "id": "0RGbfTAzILyB"
      },
      "source": [
        "# Convert `DataFrame` to numpy `array`"
      ]
    },
    {
      "cell_type": "code",
      "metadata": {
        "colab": {
          "base_uri": "https://localhost:8080/"
        },
        "id": "F5a2pzu6H2Pi",
        "outputId": "7e942012-029d-497a-bebc-d51776353074"
      },
      "source": [
        "m1 = df1.values\n",
        "m2 = df2.values\n",
        "print(m1.shape, m2.shape)"
      ],
      "execution_count": null,
      "outputs": [
        {
          "output_type": "stream",
          "name": "stdout",
          "text": [
            "(1000, 4) (1000, 4)\n"
          ]
        }
      ]
    },
    {
      "cell_type": "code",
      "metadata": {
        "colab": {
          "base_uri": "https://localhost:8080/"
        },
        "id": "tWGtu6nVIZ9J",
        "outputId": "7687456a-c846-410e-b6ca-aad69b1e06f7"
      },
      "source": [
        "m1"
      ],
      "execution_count": null,
      "outputs": [
        {
          "output_type": "execute_result",
          "data": {
            "text/plain": [
              "array([[ 100,  876,  372,   47],\n",
              "       [ 101,  500,  230,  841],\n",
              "       [ 102,  526,  563,  797],\n",
              "       ...,\n",
              "       [1097,  667,  506,  577],\n",
              "       [1098,  156,  917,  108],\n",
              "       [1099,  704,  577,  132]])"
            ]
          },
          "metadata": {},
          "execution_count": 7
        }
      ]
    },
    {
      "cell_type": "code",
      "metadata": {
        "colab": {
          "base_uri": "https://localhost:8080/"
        },
        "id": "RBePMuLQIhHk",
        "outputId": "8dd02923-e754-4b99-916a-5ee8230ef9c5"
      },
      "source": [
        "m2"
      ],
      "execution_count": null,
      "outputs": [
        {
          "output_type": "execute_result",
          "data": {
            "text/plain": [
              "array([[ 100,  318,  240,  732],\n",
              "       [ 101,  314,  288,   75],\n",
              "       [ 102,  778,  981,  215],\n",
              "       ...,\n",
              "       [1097,  874,  807,  526],\n",
              "       [1098,  845,  491,  286],\n",
              "       [1099,  971,  822,  562]])"
            ]
          },
          "metadata": {},
          "execution_count": 8
        }
      ]
    },
    {
      "cell_type": "code",
      "metadata": {
        "colab": {
          "base_uri": "https://localhost:8080/"
        },
        "id": "YOJYCdgDJQdc",
        "outputId": "37fa4d2a-0ab0-4fee-998a-70850df9d316"
      },
      "source": [
        "m3 = m2.T\n",
        "print(m3.shape)\n",
        "m3"
      ],
      "execution_count": null,
      "outputs": [
        {
          "output_type": "stream",
          "name": "stdout",
          "text": [
            "(4, 1000)\n"
          ]
        },
        {
          "output_type": "execute_result",
          "data": {
            "text/plain": [
              "array([[ 100,  101,  102, ..., 1097, 1098, 1099],\n",
              "       [ 318,  314,  778, ...,  874,  845,  971],\n",
              "       [ 240,  288,  981, ...,  807,  491,  822],\n",
              "       [ 732,   75,  215, ...,  526,  286,  562]])"
            ]
          },
          "metadata": {},
          "execution_count": 10
        }
      ]
    },
    {
      "cell_type": "markdown",
      "metadata": {
        "id": "Fs9TY3LhIjgQ"
      },
      "source": [
        "# Matrix Operations"
      ]
    },
    {
      "cell_type": "markdown",
      "metadata": {
        "id": "97xtTBSULQyR"
      },
      "source": [
        "### Matrix Addition"
      ]
    },
    {
      "cell_type": "code",
      "metadata": {
        "id": "pwCy4UdSIiO8"
      },
      "source": [
        "def matadd(m1: np.ndarray, m2: np.ndarray):\n",
        "    \"\"\"Adds two matrix after checking possibility.\"\"\"\n",
        "    if m1.shape == m2.shape:\n",
        "        return m1+m2\n",
        "    else:\n",
        "        return \"Addition not possible because of inconsistent shape\""
      ],
      "execution_count": null,
      "outputs": []
    },
    {
      "cell_type": "code",
      "metadata": {
        "colab": {
          "base_uri": "https://localhost:8080/"
        },
        "id": "-hnLfCHaIz-L",
        "outputId": "0b49d24e-fa1a-4754-ee1d-e4155b705961"
      },
      "source": [
        "matadd(m1, m2)"
      ],
      "execution_count": null,
      "outputs": [
        {
          "output_type": "execute_result",
          "data": {
            "text/plain": [
              "array([[ 200, 1194,  612,  779],\n",
              "       [ 202,  814,  518,  916],\n",
              "       [ 204, 1304, 1544, 1012],\n",
              "       ...,\n",
              "       [2194, 1541, 1313, 1103],\n",
              "       [2196, 1001, 1408,  394],\n",
              "       [2198, 1675, 1399,  694]])"
            ]
          },
          "metadata": {},
          "execution_count": 18
        }
      ]
    },
    {
      "cell_type": "code",
      "metadata": {
        "colab": {
          "base_uri": "https://localhost:8080/",
          "height": 35
        },
        "id": "JAgBC68uKVGm",
        "outputId": "aaa5aca1-1619-497d-f710-cb0022ed2653"
      },
      "source": [
        "matadd(m1, m3)"
      ],
      "execution_count": null,
      "outputs": [
        {
          "output_type": "execute_result",
          "data": {
            "application/vnd.google.colaboratory.intrinsic+json": {
              "type": "string"
            },
            "text/plain": [
              "'Addition not possible because of inconsistent shape'"
            ]
          },
          "metadata": {},
          "execution_count": 19
        }
      ]
    },
    {
      "cell_type": "markdown",
      "metadata": {
        "id": "hcb5zCp4LU9G"
      },
      "source": [
        "### Matrix Multiplication"
      ]
    },
    {
      "cell_type": "code",
      "metadata": {
        "id": "dxvqfiEbJ6CI"
      },
      "source": [
        "def matmul(m1: np.ndarray, m2: np.ndarray):\n",
        "    \"\"\"Multiplies two matrix after checking possibility.\"\"\"\n",
        "    if m1.shape[0] == m2.shape[1]:\n",
        "        return m1 @ m2\n",
        "    else:\n",
        "        return \"Multiplication not possible because of inconsistent shape\""
      ],
      "execution_count": null,
      "outputs": []
    },
    {
      "cell_type": "code",
      "metadata": {
        "colab": {
          "base_uri": "https://localhost:8080/"
        },
        "id": "VWLFW3yXKkzB",
        "outputId": "09721cf1-6d12-408a-f5d6-3767f6e9b9b4"
      },
      "source": [
        "matmul(m1, m3)"
      ],
      "execution_count": null,
      "outputs": [
        {
          "output_type": "execute_result",
          "data": {
            "text/plain": [
              "array([[ 412252,  395825, 1066765, ..., 1200250, 1046114, 1292694],\n",
              "       [ 839912,  296516,  805747, ..., 1175773,  886854, 1258201],\n",
              "       [ 895992,  397385, 1143290, ..., 1445181, 1060841, 1533544],\n",
              "       ...,\n",
              "       [ 865610,  509238, 1251261, ..., 2498211, 2181589, 2593466],\n",
              "       [ 458544,  432078, 1156161, ..., 2137677, 1818559, 2172648],\n",
              "       [ 568876,  508131, 1254227, ..., 2355970, 2122641, 2439863]])"
            ]
          },
          "metadata": {},
          "execution_count": 21
        }
      ]
    },
    {
      "cell_type": "code",
      "metadata": {
        "colab": {
          "base_uri": "https://localhost:8080/",
          "height": 35
        },
        "id": "Rj5AqJCzKn34",
        "outputId": "39577973-81f0-442b-8ddc-c87cb40be6a9"
      },
      "source": [
        "matmul(m1, m2)"
      ],
      "execution_count": null,
      "outputs": [
        {
          "output_type": "execute_result",
          "data": {
            "application/vnd.google.colaboratory.intrinsic+json": {
              "type": "string"
            },
            "text/plain": [
              "'Multiplication not possible because of inconsistent shape'"
            ]
          },
          "metadata": {},
          "execution_count": 22
        }
      ]
    }
  ]
}