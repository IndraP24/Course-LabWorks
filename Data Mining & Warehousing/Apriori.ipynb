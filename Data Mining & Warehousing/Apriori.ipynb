{
 "cells": [
  {
   "cell_type": "markdown",
   "metadata": {},
   "source": [
    "# DMDW-Tutorial-4-C11+C12-slot"
   ]
  },
  {
   "cell_type": "markdown",
   "metadata": {},
   "source": [
    "### Submitted By:\n",
    "### Indrashis Paul - 19MIM10046"
   ]
  },
  {
   "cell_type": "code",
   "execution_count": null,
   "metadata": {},
   "outputs": [],
   "source": []
  }
 ],
 "metadata": {
  "interpreter": {
   "hash": "46b2cc7fc081cc6f19f72bd4191f4bcbe4f4fcb868dbb9f2c6e2124dee7ff70e"
  },
  "kernelspec": {
   "display_name": "Python 3.9.12 ('mentalHealth')",
   "language": "python",
   "name": "python3"
  },
  "language_info": {
   "name": "python",
   "version": "3.9.12"
  },
  "orig_nbformat": 4
 },
 "nbformat": 4,
 "nbformat_minor": 2
}
