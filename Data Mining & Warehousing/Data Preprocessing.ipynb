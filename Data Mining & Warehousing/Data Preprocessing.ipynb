{
 "cells": [
  {
   "cell_type": "markdown",
   "metadata": {},
   "source": [
    "# Data Preprocessing"
   ]
  },
  {
   "cell_type": "code",
   "execution_count": 55,
   "metadata": {},
   "outputs": [],
   "source": [
    "# Importing the libraries\n",
    "import numpy as np\n",
    "import pandas as pd\n",
    "from sklearn.datasets import load_iris\n",
    "from sklearn.preprocessing import MinMaxScaler"
   ]
  },
  {
   "cell_type": "code",
   "execution_count": 9,
   "metadata": {},
   "outputs": [
    {
     "data": {
      "text/html": [
       "<div>\n",
       "<style scoped>\n",
       "    .dataframe tbody tr th:only-of-type {\n",
       "        vertical-align: middle;\n",
       "    }\n",
       "\n",
       "    .dataframe tbody tr th {\n",
       "        vertical-align: top;\n",
       "    }\n",
       "\n",
       "    .dataframe thead th {\n",
       "        text-align: right;\n",
       "    }\n",
       "</style>\n",
       "<table border=\"1\" class=\"dataframe\">\n",
       "  <thead>\n",
       "    <tr style=\"text-align: right;\">\n",
       "      <th></th>\n",
       "      <th>sepal length (cm)</th>\n",
       "      <th>sepal width (cm)</th>\n",
       "      <th>petal length (cm)</th>\n",
       "      <th>petal width (cm)</th>\n",
       "    </tr>\n",
       "  </thead>\n",
       "  <tbody>\n",
       "    <tr>\n",
       "      <th>0</th>\n",
       "      <td>5.1</td>\n",
       "      <td>3.5</td>\n",
       "      <td>1.4</td>\n",
       "      <td>0.2</td>\n",
       "    </tr>\n",
       "    <tr>\n",
       "      <th>1</th>\n",
       "      <td>4.9</td>\n",
       "      <td>3.0</td>\n",
       "      <td>1.4</td>\n",
       "      <td>0.2</td>\n",
       "    </tr>\n",
       "    <tr>\n",
       "      <th>2</th>\n",
       "      <td>4.7</td>\n",
       "      <td>3.2</td>\n",
       "      <td>1.3</td>\n",
       "      <td>0.2</td>\n",
       "    </tr>\n",
       "    <tr>\n",
       "      <th>3</th>\n",
       "      <td>4.6</td>\n",
       "      <td>3.1</td>\n",
       "      <td>1.5</td>\n",
       "      <td>0.2</td>\n",
       "    </tr>\n",
       "    <tr>\n",
       "      <th>4</th>\n",
       "      <td>5.0</td>\n",
       "      <td>3.6</td>\n",
       "      <td>1.4</td>\n",
       "      <td>0.2</td>\n",
       "    </tr>\n",
       "    <tr>\n",
       "      <th>...</th>\n",
       "      <td>...</td>\n",
       "      <td>...</td>\n",
       "      <td>...</td>\n",
       "      <td>...</td>\n",
       "    </tr>\n",
       "    <tr>\n",
       "      <th>145</th>\n",
       "      <td>6.7</td>\n",
       "      <td>3.0</td>\n",
       "      <td>5.2</td>\n",
       "      <td>2.3</td>\n",
       "    </tr>\n",
       "    <tr>\n",
       "      <th>146</th>\n",
       "      <td>6.3</td>\n",
       "      <td>2.5</td>\n",
       "      <td>5.0</td>\n",
       "      <td>1.9</td>\n",
       "    </tr>\n",
       "    <tr>\n",
       "      <th>147</th>\n",
       "      <td>6.5</td>\n",
       "      <td>3.0</td>\n",
       "      <td>5.2</td>\n",
       "      <td>2.0</td>\n",
       "    </tr>\n",
       "    <tr>\n",
       "      <th>148</th>\n",
       "      <td>6.2</td>\n",
       "      <td>3.4</td>\n",
       "      <td>5.4</td>\n",
       "      <td>2.3</td>\n",
       "    </tr>\n",
       "    <tr>\n",
       "      <th>149</th>\n",
       "      <td>5.9</td>\n",
       "      <td>3.0</td>\n",
       "      <td>5.1</td>\n",
       "      <td>1.8</td>\n",
       "    </tr>\n",
       "  </tbody>\n",
       "</table>\n",
       "<p>150 rows × 4 columns</p>\n",
       "</div>"
      ],
      "text/plain": [
       "     sepal length (cm)  sepal width (cm)  petal length (cm)  petal width (cm)\n",
       "0                  5.1               3.5                1.4               0.2\n",
       "1                  4.9               3.0                1.4               0.2\n",
       "2                  4.7               3.2                1.3               0.2\n",
       "3                  4.6               3.1                1.5               0.2\n",
       "4                  5.0               3.6                1.4               0.2\n",
       "..                 ...               ...                ...               ...\n",
       "145                6.7               3.0                5.2               2.3\n",
       "146                6.3               2.5                5.0               1.9\n",
       "147                6.5               3.0                5.2               2.0\n",
       "148                6.2               3.4                5.4               2.3\n",
       "149                5.9               3.0                5.1               1.8\n",
       "\n",
       "[150 rows x 4 columns]"
      ]
     },
     "execution_count": 9,
     "metadata": {},
     "output_type": "execute_result"
    }
   ],
   "source": [
    "# Loading the dataset onto a dataframe\n",
    "data = load_iris()\n",
    "X = pd.DataFrame(data.data, columns=data.feature_names)\n",
    "X"
   ]
  },
  {
   "cell_type": "code",
   "execution_count": 45,
   "metadata": {},
   "outputs": [
    {
     "data": {
      "text/plain": [
       "60     2.0\n",
       "62     2.2\n",
       "119    2.2\n",
       "68     2.2\n",
       "41     2.3\n",
       "      ... \n",
       "16     3.9\n",
       "14     4.0\n",
       "32     4.1\n",
       "33     4.2\n",
       "15     4.4\n",
       "Name: sepal width (cm), Length: 150, dtype: float64"
      ]
     },
     "execution_count": 45,
     "metadata": {},
     "output_type": "execute_result"
    }
   ],
   "source": [
    "# Sorting and storing the 2nd column of the dataframe\n",
    "column_1 = X.iloc[:, 1].sort_values()\n",
    "column_1"
   ]
  },
  {
   "cell_type": "markdown",
   "metadata": {},
   "source": [
    "## Data Smoothing by Binning"
   ]
  },
  {
   "cell_type": "code",
   "execution_count": 46,
   "metadata": {},
   "outputs": [],
   "source": [
    "# Creating empty bins\n",
    "\n",
    "bin_1 = np.zeros((30, 5))\n",
    "bin_2 = np.zeros((30, 5))\n",
    "bin_3 = np.zeros((30, 5))"
   ]
  },
  {
   "cell_type": "code",
   "execution_count": 47,
   "metadata": {},
   "outputs": [],
   "source": [
    "# Smoothing by bin mean\n",
    "def bin_mean(data, bins):\n",
    "    for i in range(0, 150, 5):\n",
    "        k = i//5\n",
    "        mean = data[i:i+5].mean()\n",
    "        for j in range(5):\n",
    "            bins[k, j] = mean\n",
    "    return bins"
   ]
  },
  {
   "cell_type": "code",
   "execution_count": 48,
   "metadata": {},
   "outputs": [
    {
     "data": {
      "text/plain": [
       "array([[2.18, 2.18, 2.18, 2.18, 2.18],\n",
       "       [2.34, 2.34, 2.34, 2.34, 2.34],\n",
       "       [2.48, 2.48, 2.48, 2.48, 2.48],\n",
       "       [2.52, 2.52, 2.52, 2.52, 2.52],\n",
       "       [2.62, 2.62, 2.62, 2.62, 2.62],\n",
       "       [2.7 , 2.7 , 2.7 , 2.7 , 2.7 ],\n",
       "       [2.74, 2.74, 2.74, 2.74, 2.74],\n",
       "       [2.8 , 2.8 , 2.8 , 2.8 , 2.8 ],\n",
       "       [2.8 , 2.8 , 2.8 , 2.8 , 2.8 ],\n",
       "       [2.86, 2.86, 2.86, 2.86, 2.86],\n",
       "       [2.9 , 2.9 , 2.9 , 2.9 , 2.9 ],\n",
       "       [2.96, 2.96, 2.96, 2.96, 2.96],\n",
       "       [3.  , 3.  , 3.  , 3.  , 3.  ],\n",
       "       [3.  , 3.  , 3.  , 3.  , 3.  ],\n",
       "       [3.  , 3.  , 3.  , 3.  , 3.  ],\n",
       "       [3.  , 3.  , 3.  , 3.  , 3.  ],\n",
       "       [3.04, 3.04, 3.04, 3.04, 3.04],\n",
       "       [3.1 , 3.1 , 3.1 , 3.1 , 3.1 ],\n",
       "       [3.12, 3.12, 3.12, 3.12, 3.12],\n",
       "       [3.2 , 3.2 , 3.2 , 3.2 , 3.2 ],\n",
       "       [3.2 , 3.2 , 3.2 , 3.2 , 3.2 ],\n",
       "       [3.26, 3.26, 3.26, 3.26, 3.26],\n",
       "       [3.34, 3.34, 3.34, 3.34, 3.34],\n",
       "       [3.4 , 3.4 , 3.4 , 3.4 , 3.4 ],\n",
       "       [3.4 , 3.4 , 3.4 , 3.4 , 3.4 ],\n",
       "       [3.5 , 3.5 , 3.5 , 3.5 , 3.5 ],\n",
       "       [3.58, 3.58, 3.58, 3.58, 3.58],\n",
       "       [3.74, 3.74, 3.74, 3.74, 3.74],\n",
       "       [3.82, 3.82, 3.82, 3.82, 3.82],\n",
       "       [4.12, 4.12, 4.12, 4.12, 4.12]])"
      ]
     },
     "execution_count": 48,
     "metadata": {},
     "output_type": "execute_result"
    }
   ],
   "source": [
    "bin_1 = bin_mean(column_1, bin_1)\n",
    "bin_1"
   ]
  },
  {
   "cell_type": "code",
   "execution_count": 49,
   "metadata": {},
   "outputs": [],
   "source": [
    "# Smoothing by bin median\n",
    "def bin_median(data, bins):\n",
    "    for i in range(0, 150, 5):\n",
    "        k = i//5\n",
    "        median = data[i:i+5].median()\n",
    "        for j in range(5):\n",
    "            bins[k, j] = median\n",
    "    return bins"
   ]
  },
  {
   "cell_type": "code",
   "execution_count": 50,
   "metadata": {},
   "outputs": [
    {
     "data": {
      "text/plain": [
       "array([[2.2, 2.2, 2.2, 2.2, 2.2],\n",
       "       [2.3, 2.3, 2.3, 2.3, 2.3],\n",
       "       [2.5, 2.5, 2.5, 2.5, 2.5],\n",
       "       [2.5, 2.5, 2.5, 2.5, 2.5],\n",
       "       [2.6, 2.6, 2.6, 2.6, 2.6],\n",
       "       [2.7, 2.7, 2.7, 2.7, 2.7],\n",
       "       [2.7, 2.7, 2.7, 2.7, 2.7],\n",
       "       [2.8, 2.8, 2.8, 2.8, 2.8],\n",
       "       [2.8, 2.8, 2.8, 2.8, 2.8],\n",
       "       [2.9, 2.9, 2.9, 2.9, 2.9],\n",
       "       [2.9, 2.9, 2.9, 2.9, 2.9],\n",
       "       [3. , 3. , 3. , 3. , 3. ],\n",
       "       [3. , 3. , 3. , 3. , 3. ],\n",
       "       [3. , 3. , 3. , 3. , 3. ],\n",
       "       [3. , 3. , 3. , 3. , 3. ],\n",
       "       [3. , 3. , 3. , 3. , 3. ],\n",
       "       [3. , 3. , 3. , 3. , 3. ],\n",
       "       [3.1, 3.1, 3.1, 3.1, 3.1],\n",
       "       [3.1, 3.1, 3.1, 3.1, 3.1],\n",
       "       [3.2, 3.2, 3.2, 3.2, 3.2],\n",
       "       [3.2, 3.2, 3.2, 3.2, 3.2],\n",
       "       [3.3, 3.3, 3.3, 3.3, 3.3],\n",
       "       [3.3, 3.3, 3.3, 3.3, 3.3],\n",
       "       [3.4, 3.4, 3.4, 3.4, 3.4],\n",
       "       [3.4, 3.4, 3.4, 3.4, 3.4],\n",
       "       [3.5, 3.5, 3.5, 3.5, 3.5],\n",
       "       [3.6, 3.6, 3.6, 3.6, 3.6],\n",
       "       [3.7, 3.7, 3.7, 3.7, 3.7],\n",
       "       [3.8, 3.8, 3.8, 3.8, 3.8],\n",
       "       [4.1, 4.1, 4.1, 4.1, 4.1]])"
      ]
     },
     "execution_count": 50,
     "metadata": {},
     "output_type": "execute_result"
    }
   ],
   "source": [
    "bin_2 = bin_median(column_1, bin_2)\n",
    "bin_2"
   ]
  },
  {
   "cell_type": "code",
   "execution_count": 53,
   "metadata": {},
   "outputs": [],
   "source": [
    "# Smoothing by bin boundaries\n",
    "def bin_boundaries(data, bins):\n",
    "    for i in range(0, 150, 5):\n",
    "        k = i//5\n",
    "        for j in range(5):\n",
    "            if (data[i+j]-data[i]) < (data[i+4]-data[i+j]):\n",
    "                bins[k, j] = data[i]\n",
    "            else:\n",
    "                bins[k, j] = data[i+4]\n",
    "    return bins"
   ]
  },
  {
   "cell_type": "code",
   "execution_count": 54,
   "metadata": {},
   "outputs": [
    {
     "data": {
      "text/plain": [
       "array([[3.5, 3.5, 3.5, 3.5, 3.6],\n",
       "       [3.1, 3.9, 3.9, 3.9, 3.9],\n",
       "       [3.7, 3.7, 3.7, 3.7, 4. ],\n",
       "       [3.8, 4.4, 4.4, 4.4, 4.4],\n",
       "       [3.4, 3.4, 3.4, 3.4, 3.4],\n",
       "       [3. , 3.2, 3.2, 3.2, 3.2],\n",
       "       [3.1, 3.1, 3.1, 3.1, 3.1],\n",
       "       [3.2, 3.4, 3.4, 3.2, 3.4],\n",
       "       [3.5, 3.5, 3.5, 3.5, 3.8],\n",
       "       [3. , 3.3, 3.3, 3.3, 3.3],\n",
       "       [2.8, 2.8, 2.8, 3.2, 3.2],\n",
       "       [2.7, 2.7, 2.8, 2.7, 2.8],\n",
       "       [2. , 2.9, 2. , 2.9, 2.9],\n",
       "       [2.5, 2.5, 3.1, 3.1, 3.1],\n",
       "       [2.9, 3.2, 3.2, 3.2, 3.2],\n",
       "       [2.6, 3. , 2.6, 2.6, 3. ],\n",
       "       [2.4, 2.4, 3. , 3. , 3. ],\n",
       "       [2.5, 2.5, 3.4, 2.5, 3.4],\n",
       "       [2.6, 2.7, 2.6, 2.6, 2.7],\n",
       "       [2.8, 2.8, 2.8, 3. , 3. ],\n",
       "       [3. , 3.3, 3.3, 3.3, 3.3],\n",
       "       [3. , 3. , 3. , 3. , 3.6],\n",
       "       [2.8, 3.2, 2.8, 3.2, 3.2],\n",
       "       [2.2, 2.2, 2.2, 3.2, 3.2],\n",
       "       [3.2, 3.2, 3.2, 3.2, 3.3],\n",
       "       [3. , 3.2, 3.2, 3.2, 3.2],\n",
       "       [2.6, 2.6, 2.6, 2.6, 2.8],\n",
       "       [3. , 3.1, 3.1, 3. , 3.1],\n",
       "       [3.1, 3.1, 3.1, 3.3, 3.3],\n",
       "       [3. , 3. , 3. , 3. , 3. ]])"
      ]
     },
     "execution_count": 54,
     "metadata": {},
     "output_type": "execute_result"
    }
   ],
   "source": [
    "bin_boundaries(column_1, bin_3)"
   ]
  },
  {
   "cell_type": "markdown",
   "metadata": {},
   "source": [
    "## Data Normalization"
   ]
  },
  {
   "cell_type": "code",
   "execution_count": 58,
   "metadata": {},
   "outputs": [
    {
     "name": "stdout",
     "output_type": "stream",
     "text": [
      "(150, 4)\n"
     ]
    },
    {
     "data": {
      "text/plain": [
       "array([[5.1, 3.5, 1.4, 0.2],\n",
       "       [4.9, 3. , 1.4, 0.2],\n",
       "       [4.7, 3.2, 1.3, 0.2],\n",
       "       [4.6, 3.1, 1.5, 0.2],\n",
       "       [5. , 3.6, 1.4, 0.2]])"
      ]
     },
     "execution_count": 58,
     "metadata": {},
     "output_type": "execute_result"
    }
   ],
   "source": [
    "X = data.data\n",
    "print(X.shape)\n",
    "X[:5]"
   ]
  },
  {
   "cell_type": "code",
   "execution_count": 60,
   "metadata": {},
   "outputs": [],
   "source": [
    "scaler = MinMaxScaler()\n",
    "X_scaled = scaler.fit_transform(X)"
   ]
  },
  {
   "cell_type": "code",
   "execution_count": 61,
   "metadata": {},
   "outputs": [
    {
     "name": "stdout",
     "output_type": "stream",
     "text": [
      "[0. 0. 0. 0.] [1. 1. 1. 1.]\n"
     ]
    }
   ],
   "source": [
    "print(X_scaled.min(axis=0), X_scaled.max(axis=0))"
   ]
  },
  {
   "cell_type": "code",
   "execution_count": 67,
   "metadata": {},
   "outputs": [],
   "source": [
    "def normalize(data):\n",
    "    X_scaled = (data - data.min(axis=0)) / (data.max(axis=0) - data.min(axis=0))\n",
    "    return X_scaled"
   ]
  },
  {
   "cell_type": "code",
   "execution_count": 68,
   "metadata": {},
   "outputs": [],
   "source": [
    "X_scaled_manual = normalize(X)"
   ]
  },
  {
   "cell_type": "code",
   "execution_count": 71,
   "metadata": {},
   "outputs": [
    {
     "name": "stdout",
     "output_type": "stream",
     "text": [
      "[0. 0. 0. 0.] [1. 1. 1. 1.]\n"
     ]
    }
   ],
   "source": [
    "print(X_scaled_manual.min(axis=0), X_scaled_manual.max(axis=0))"
   ]
  },
  {
   "cell_type": "code",
   "execution_count": 70,
   "metadata": {},
   "outputs": [
    {
     "name": "stdout",
     "output_type": "stream",
     "text": [
      "True\n"
     ]
    }
   ],
   "source": [
    "# Verifying Manual vs Sk-Learn\n",
    "print(np.allclose(X_scaled, X_scaled_manual))"
   ]
  }
 ],
 "metadata": {
  "interpreter": {
   "hash": "79b33de42393e8658fe28031336af3db23fa82ce3021389ada07706bf647e02e"
  },
  "kernelspec": {
   "display_name": "Python 3.9.7 ('MLBasic')",
   "language": "python",
   "name": "python3"
  },
  "language_info": {
   "codemirror_mode": {
    "name": "ipython",
    "version": 3
   },
   "file_extension": ".py",
   "mimetype": "text/x-python",
   "name": "python",
   "nbconvert_exporter": "python",
   "pygments_lexer": "ipython3",
   "version": "3.9.7"
  },
  "orig_nbformat": 4
 },
 "nbformat": 4,
 "nbformat_minor": 2
}
